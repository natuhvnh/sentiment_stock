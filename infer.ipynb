{
 "cells": [
  {
   "cell_type": "code",
   "execution_count": 1,
   "metadata": {},
   "outputs": [],
   "source": [
    "import pandas as pd\n",
    "from models import *\n",
    "from tqdm import tqdm\n",
    "tqdm.pandas()\n",
    "from torch import nn\n",
    "import json\n",
    "import numpy as np\n",
    "import pickle\n",
    "import os\n",
    "from sklearn.preprocessing import LabelEncoder\n",
    "from sklearn.model_selection import StratifiedKFold\n",
    "from sklearn.metrics import accuracy_score, f1_score, precision_score, recall_score, roc_auc_score\n",
    "from argparse import Namespace\n",
    "from transformers import *\n",
    "import torch\n",
    "import matplotlib.pyplot as plt\n",
    "import torch.utils.data\n",
    "import torch.nn.functional as F\n",
    "import argparse\n",
    "from transformers.modeling_utils import * \n",
    "from fairseq.data.encoders.fastbpe import fastBPE\n",
    "from fairseq.data import Dictionary\n",
    "from vncorenlp import VnCoreNLP\n",
    "from utils import * "
   ]
  },
  {
   "cell_type": "code",
   "execution_count": 2,
   "metadata": {},
   "outputs": [],
   "source": [
    "args = Namespace(\n",
    "    test_path = 'data_clean.csv',\n",
    "    dict_path = \"./phobert_base/dict.txt\",\n",
    "    config_path = \"./phobert_base/config.json\",\n",
    "    rdrsegmenter_path = '/home/tuna/FDM/MarketSentiment/PhoBert-Sentiment-Classification/VnCoreNLP-master/VnCoreNLP-1.1.1.jar',\n",
    "    pretrained_path = './phobert_base/model.bin',\n",
    "    max_sequence_length = 256,\n",
    "    batch_size = 24,\n",
    "    ckpt_path = './models',\n",
    "    bpe_codes = \"./phobert_base/bpe.codes\"\n",
    ")"
   ]
  },
  {
   "cell_type": "code",
   "execution_count": 3,
   "metadata": {},
   "outputs": [
    {
     "name": "stdout",
     "output_type": "stream",
     "text": [
      "./phobert_base/bpe.codes\n"
     ]
    }
   ],
   "source": [
    "bpe = fastBPE(args)\n",
    "rdrsegmenter = VnCoreNLP(args.rdrsegmenter_path, annotators=\"wseg\", max_heap_size='-Xmx500m') "
   ]
  },
  {
   "cell_type": "code",
   "execution_count": 4,
   "metadata": {},
   "outputs": [],
   "source": [
    "# Load model\n",
    "config = RobertaConfig.from_pretrained(\n",
    "    args.config_path,\n",
    "    output_hidden_states=True,\n",
    "    num_labels=1\n",
    ")\n",
    "model_bert = RobertaForAIViVN.from_pretrained(args.pretrained_path, config=config)\n",
    "model_bert.cuda()\n",
    "tsfm = model_bert.roberta"
   ]
  },
  {
   "cell_type": "code",
   "execution_count": 5,
   "metadata": {},
   "outputs": [],
   "source": [
    "# Load the dictionary  \n",
    "vocab = Dictionary()\n",
    "vocab.add_from_file(args.dict_path)"
   ]
  },
  {
   "cell_type": "code",
   "execution_count": 6,
   "metadata": {},
   "outputs": [
    {
     "name": "stderr",
     "output_type": "stream",
     "text": [
      "  2%|▏         | 7/430 [00:00<00:06, 67.29it/s]"
     ]
    },
    {
     "name": "stdout",
     "output_type": "stream",
     "text": [
      "                                                  text sentiment_final\n",
      "0    Xin thông báo khi nào hết dịch Corona thì lúc ...               P\n",
      "1    5 mã trắng cửa bán rồi thì FLC tí nữa thôi là ...               P\n",
      "2    Hihi theo a Quyết đến hết mùa dịch chắc cũng p...               P\n",
      "3    Mai tây (ETFs) nó xả hàng ROS, mà a QC còn chơ...               N\n",
      "4    Art, Hai, KLF lái con chốt, a e vô đỡ thấy thư...               N\n",
      "..                                                 ...             ...\n",
      "425  Tin vĩ mô:.- Bộ TC gia tăng gói hỗ trợ một số ...               P\n",
      "426  T2 này khả năng thoát dớp nhưng về lâu dài phe...               N\n",
      "427                             Giảm thêm 700 đáy chắc               N\n",
      "428  Cuối tuần ngập tràn tin xấu.Cá Mập, đội lái đã...               N\n",
      "429                                Vni lên là lên !!!!               P\n",
      "\n",
      "[430 rows x 2 columns]\n"
     ]
    },
    {
     "name": "stderr",
     "output_type": "stream",
     "text": [
      "100%|██████████| 430/430 [00:03<00:00, 142.69it/s]\n",
      "100%|██████████| 430/430 [00:00<00:00, 2365.59it/s]\n"
     ]
    }
   ],
   "source": [
    "test_df = pd.read_csv(args.test_path, sep='#').fillna(\"###\")\n",
    "print(test_df)\n",
    "test_df.text = test_df.text.progress_apply(lambda x: ' '.join([' '.join(sent) for sent in rdrsegmenter.tokenize(x)]))\n",
    "X_test = convert_lines(test_df, vocab, bpe,args.max_sequence_length)"
   ]
  },
  {
   "cell_type": "code",
   "execution_count": 7,
   "metadata": {},
   "outputs": [
    {
     "name": "stderr",
     "output_type": "stream",
     "text": [
      "                                               "
     ]
    },
    {
     "name": "stdout",
     "output_type": "stream",
     "text": [
      "[0.67722899 0.6837119  0.69720818 0.63185299 0.66825543 0.64536438\n",
      " 0.68647396 0.68881821 0.61823149 0.69261806 0.66358323 0.66086594\n",
      " 0.66897912 0.63223537 0.67260869 0.66865696 0.66988795 0.75793343\n",
      " 0.7081559  0.69726558 0.6334864  0.69928145 0.69900164 0.70276776\n",
      " 0.68616173 0.67808487 0.68686212 0.64393327 0.62991635 0.64595152\n",
      " 0.6789204  0.69673243 0.65110739 0.65934951 0.69675033 0.67428666\n",
      " 0.7006828  0.69872111 0.70466294 0.65996625 0.67299807 0.68408527\n",
      " 0.6958926  0.68243259 0.63908698 0.654583   0.67387529 0.65794283\n",
      " 0.69952491 0.6926459  0.69625293 0.69355109 0.6866958  0.65460756\n",
      " 0.68632902 0.7011391  0.63234857 0.67673275 0.65577075 0.68115816\n",
      " 0.62978256 0.72564897 0.65360723 0.68278406 0.70261478 0.72348574\n",
      " 0.68097362 0.68454529 0.69903781 0.64326645 0.65006478 0.67512336\n",
      " 0.69443938 0.67760886 0.70042047 0.77305541 0.64678992 0.66780546\n",
      " 0.62973098 0.65839186 0.65123938 0.69159547 0.63839702 0.68777659\n",
      " 0.69563063 0.67772907 0.66826608 0.66761622 0.6406341  0.69403\n",
      " 0.67458058 0.68210414 0.69850138 0.69899074 0.69839138 0.69907405\n",
      " 0.64060975 0.64064148 0.66731478 0.68959877 0.67832846 0.64534617\n",
      " 0.70077726 0.67968489 0.64272977 0.68240925 0.69155241 0.68396098\n",
      " 0.67788891 0.68213605 0.69468639 0.66101538 0.69022912 0.65253567\n",
      " 0.66898206 0.67647564 0.68871729 0.66536903 0.71407314 0.68621914\n",
      " 0.69604365 0.63968284 0.68667232 0.6657948  0.70002498 0.71325201\n",
      " 0.69251958 0.70184156 0.69659839 0.67930391 0.63519744 0.69756637\n",
      " 0.63472838 0.68557108 0.65184021 0.68889584 0.64429643 0.68818767\n",
      " 0.6580905  0.6824739  0.68678127 0.68647949 0.69414082 0.60430339\n",
      " 0.68181219 0.68260481 0.68302355 0.69524076 0.69338437 0.70625719\n",
      " 0.69717339 0.64048144 0.68333457 0.70059593 0.65744158 0.70080551\n",
      " 0.67848424 0.66528182 0.68986746 0.68857924 0.68817653 0.68676882\n",
      " 0.65925745 0.70394643 0.69403358 0.6814056  0.67171869 0.69855521\n",
      " 0.63172258 0.66080391 0.67259933 0.69541397 0.69649693 0.68938491\n",
      " 0.62368202 0.70563188 0.69209724 0.61850195 0.67226075 0.69150268\n",
      " 0.69292781 0.70434835 0.67551873 0.69487621 0.68306047 0.72098337\n",
      " 0.61763608 0.69935376 0.65602714 0.68043962 0.678589   0.6909074\n",
      " 0.6873871  0.68071437 0.6742464  0.69854117 0.66019209 0.68204158\n",
      " 0.62544573 0.69689193 0.69789538 0.70413579 0.6939262  0.64909196\n",
      " 0.70919029 0.69597409 0.70854473 0.70198825 0.6226715  0.71315587\n",
      " 0.63390054 0.69061928 0.60114249 0.68349172 0.64574567 0.70333062\n",
      " 0.66261602 0.70051872 0.63563842 0.69796558 0.78293142 0.67680986\n",
      " 0.68374216 0.71525484 0.68548998 0.6803868  0.6391615  0.6960072\n",
      " 0.68774662 0.63807106 0.6446759  0.64015284 0.70706398 0.68968504\n",
      " 0.69616254 0.69507502 0.65871115 0.68772559 0.7064866  0.70069504\n",
      " 0.64919094 0.66893698 0.54542795 0.72159439 0.68283242 0.62927991\n",
      " 0.69250615 0.6977188  0.6731496  0.68193224 0.68263777 0.69118658\n",
      " 0.69252142 0.65366811 0.71104707 0.68667564 0.64365007 0.64268425\n",
      " 0.63010169 0.69120962 0.62583359 0.6984508  0.70034428 0.69149035\n",
      " 0.61785415 0.6387676  0.63008383 0.68940067 0.69181783 0.70280355\n",
      " 0.68445865 0.69129358 0.70335709 0.70028761 0.66551158 0.70881396\n",
      " 0.66876182 0.69394393 0.69661925 0.6983258  0.68967875 0.70257198\n",
      " 0.69400726 0.71301879 0.77522226 0.68071198 0.69074375 0.68005637\n",
      " 0.69218512 0.65494372 0.67466847 0.67482497 0.67653375 0.6540895\n",
      " 0.67474524 0.67924991 0.66109702 0.70389421 0.58202507 0.70414176\n",
      " 0.66492424 0.66010583 0.68080129 0.64506052 0.64645615 0.69670753\n",
      " 0.69832251 0.67144031 0.64670341 0.6415385  0.6832323  0.68002608\n",
      " 0.68307672 0.58680881 0.6886117  0.69691985 0.65089161 0.67809969\n",
      " 0.68559203 0.70302148 0.75210856 0.69852539 0.65501631 0.69512308\n",
      " 0.6898018  0.69461274 0.6872954  0.66402682 0.69441052 0.68107219\n",
      " 0.64759799 0.67605876 0.69102507 0.65441522 0.69178502 0.68985373\n",
      " 0.68294696 0.62971929 0.6943613  0.68937571 0.6943062  0.69467848\n",
      " 0.63659308 0.68899575 0.53498128 0.69232297 0.65896819 0.66437977\n",
      " 0.66522484 0.64748709 0.79469427 0.63900186 0.67505169 0.60503239\n",
      " 0.77790386 0.68501948 0.66709292 0.70085466 0.69783331 0.67269383\n",
      " 0.70512072 0.69032686 0.68505239 0.70641328 0.65976691 0.6809871\n",
      " 0.70428749 0.65212652 0.68167079 0.68774278 0.685343   0.68875018\n",
      " 0.5547421  0.65970838 0.64772829 0.68647311 0.69656488 0.66321224\n",
      " 0.67420792 0.68191595 0.61986275 0.65773098 0.66912962 0.6938305\n",
      " 0.66464421 0.6696552  0.70021467 0.66367218 0.71893477 0.68369707\n",
      " 0.58375426 0.78473109 0.6655007  0.70138844 0.66227317 0.69335505\n",
      " 0.68832992 0.69988939 0.7010537  0.69878937 0.68057656 0.74441339\n",
      " 0.67558781 0.71719632 0.6591991  0.6324045  0.68863945 0.68862373\n",
      " 0.70501382 0.64493211 0.68541287 0.75737142 0.68403703 0.66083062\n",
      " 0.63742817 0.67523518 0.70446685 0.6395027  0.68949672 0.72110596\n",
      " 0.70834054 0.64168521 0.57645892 0.66463709 0.64046173 0.78845826\n",
      " 0.68362828 0.71157092 0.63346775 0.53448132]\n"
     ]
    },
    {
     "name": "stderr",
     "output_type": "stream",
     "text": [
      "\r"
     ]
    }
   ],
   "source": [
    "preds_fold = []\n",
    "model_bert.load_state_dict(torch.load(os.path.join(args.ckpt_path, 'model_0.bin')))\n",
    "test_dataset = torch.utils.data.TensorDataset(torch.tensor(X_test,dtype=torch.long))\n",
    "test_loader = torch.utils.data.DataLoader(test_dataset, batch_size=args.batch_size, shuffle=False)\n",
    "model_bert.eval()\n",
    "pbar = tqdm(enumerate(test_loader),total=len(test_loader),leave=False)\n",
    "for i, (x_batch,) in pbar:\n",
    "    y_pred = model_bert(x_batch.cuda(), attention_mask=(x_batch>0).cuda())\n",
    "    y_pred = y_pred.view(-1).detach().cpu().numpy()\n",
    "    preds_fold = np.concatenate([preds_fold, y_pred])\n",
    "preds_fold = sigmoid(preds_fold)\n",
    "print(preds_fold)"
   ]
  },
  {
   "cell_type": "code",
   "execution_count": 8,
   "metadata": {},
   "outputs": [
    {
     "data": {
      "text/plain": [
       "430"
      ]
     },
     "execution_count": 8,
     "metadata": {},
     "output_type": "execute_result"
    }
   ],
   "source": [
    "len(preds_fold)"
   ]
  },
  {
   "cell_type": "code",
   "execution_count": 9,
   "metadata": {},
   "outputs": [],
   "source": [
    "test_df['result'] = preds_fold"
   ]
  },
  {
   "cell_type": "code",
   "execution_count": 12,
   "metadata": {},
   "outputs": [],
   "source": [
    "test_df.to_csv('result.csv', sep='#', index=False, encoding='utf-8-sig')"
   ]
  },
  {
   "cell_type": "code",
   "execution_count": null,
   "metadata": {},
   "outputs": [],
   "source": []
  }
 ],
 "metadata": {
  "kernelspec": {
   "display_name": "Python 3",
   "language": "python",
   "name": "python3"
  },
  "language_info": {
   "codemirror_mode": {
    "name": "ipython",
    "version": 3
   },
   "file_extension": ".py",
   "mimetype": "text/x-python",
   "name": "python",
   "nbconvert_exporter": "python",
   "pygments_lexer": "ipython3",
   "version": "3.6.9"
  }
 },
 "nbformat": 4,
 "nbformat_minor": 4
}
